{
 "cells": [
  {
   "cell_type": "code",
   "execution_count": null,
   "metadata": {},
   "outputs": [],
   "source": [
    "import pandas as pd\n",
    "import numpy as np\n",
    "df = pd.read_json('data\\data_bike_exchange.json', lines=True)\n",
    "df.head(10)"
   ]
  },
  {
   "cell_type": "code",
   "execution_count": null,
   "metadata": {},
   "outputs": [],
   "source": [
    "pd.set_option('display.max_rows', None)\n",
    "pd.set_option('display.max_columns', None)\n",
    "pd.reset_option('all')"
   ]
  },
  {
   "cell_type": "code",
   "execution_count": null,
   "metadata": {},
   "outputs": [],
   "source": [
    "df[['Type', 'Riding Style']][df['Type'].str.contains('Road')].head(10)"
   ]
  },
  {
   "cell_type": "code",
   "execution_count": null,
   "metadata": {},
   "outputs": [],
   "source": [
    "def print_nans_perc(df):\n",
    "    n = len(df)\n",
    "    nans_perc = ((df.isna().sum() / n) * 100).sort_values(ascending=True)\n",
    "    print('len - ', n)\n",
    "    for index, val in zip(nans_perc.index, nans_perc):\n",
    "        print(index + ': ', val)\n",
    "print_nans_perc(df)"
   ]
  },
  {
   "cell_type": "code",
   "execution_count": null,
   "metadata": {},
   "outputs": [],
   "source": [
    "bike_types = df['Type'].unique()\n",
    "for Btype in bike_types:\n",
    "    print('\\n\\n'+ Btype + ':\\n')\n",
    "    print_nans_perc(df[df['Type'] == Btype])"
   ]
  },
  {
   "cell_type": "code",
   "execution_count": null,
   "metadata": {},
   "outputs": [],
   "source": [
    "usefull_cols = ['ID','Title','Type','Price now','Brand','Item condition', 'Material', 'Rear Derailleur', 'Groupset', 'Braking Type']\n",
    "usefull_cols_road = ['ID','Title','Price now','Brand','Item condition', 'Material', 'Groupset', 'Braking Type']"
   ]
  },
  {
   "cell_type": "code",
   "execution_count": null,
   "metadata": {},
   "outputs": [],
   "source": [
    "roadies_orig = df[df['Type'] == 'Road Bikes'][usefull_cols_road]\n",
    "print_nans_perc(roadies_orig)"
   ]
  },
  {
   "cell_type": "code",
   "execution_count": null,
   "metadata": {},
   "outputs": [],
   "source": [
    "roadies = roadies_orig.copy()\n",
    "roadies.rename(columns={'Price now': 'Price'}, inplace=True)\n",
    "roadies['Price'].replace('[A-Za-z, \\$]','',inplace=True, regex=True)\n",
    "roadies = roadies[roadies['Price'] != '']\n",
    "roadies['Price'] = roadies['Price'].astype(float)\n",
    "roadies"
   ]
  },
  {
   "cell_type": "code",
   "execution_count": null,
   "metadata": {},
   "outputs": [],
   "source": [
    "roadies.rename(columns={'Item condition': 'isNew'}, inplace=True)\n",
    "roadies['isNew'].replace({'Used': 0, 'New': 1},inplace=True, regex=True)\n",
    "roadies['isNew'] = roadies['isNew'].astype(int)\n",
    "roadies"
   ]
  },
  {
   "cell_type": "code",
   "execution_count": null,
   "metadata": {},
   "outputs": [],
   "source": [
    "material_dict = {'Chromoly': 0.15, 'Steel': 0.3, 'Aluminum': 0.45, 'Titanium': 0.6, 'Carbon Alloy Composite': 0.75, 'Carbon': 0.9}\n",
    "roadies['material_num'] = roadies['Material'].replace(material_dict, regex=True)\n",
    "roadies['material_num'] = roadies['material_num'].astype(float)\n",
    "roadies"
   ]
  },
  {
   "cell_type": "code",
   "execution_count": null,
   "metadata": {},
   "outputs": [],
   "source": [
    "roadies.groupby('Groupset').size()"
   ]
  },
  {
   "cell_type": "code",
   "execution_count": null,
   "metadata": {},
   "outputs": [],
   "source": [
    "roadies = roadies[roadies['Groupset'] != 'N/A']\n",
    "roadies['e_shift_num'] = roadies['Groupset'].apply(lambda x: 1 if any(ele in x for ele in ['Di2', 'AXS', 'eTap']) else 0)\n",
    "\n",
    "gropset_dict = {'Campagnolo Veloce': 0.7,'Campagnolo Centaur': 0.8, 'Campagnolo Chorus': 0.9, 'Campagnolo Super Record': 1,\n",
    "       'SRAM Apex': 0.6, 'SRAM Rival': 0.7, 'SRAM Force': 0.8, 'SRAM Red': 0.9,  \n",
    "       'SRAM Force AXS': 0.85, 'SRAM Red AXS': 1, 'SRAM Red eTap': 1,\n",
    "       'Shimano Tourney': 0.3, 'Shimano Claris': 0.4, 'Shimano Sora': 0.5,'Shimano Tiagra': 0.6, 'Shimano 105': 0.7,'Shimano Ultegra': 0.8, 'Shimano Dura Ace': 0.9,\n",
    "       'Shimano XTR Di2': 1, 'Shimano Ultegra Di2': 0.85 ,'Shimano Dura Ace Di2': 1, \n",
    "       'Shimano A070': 0.3, 'Shimano GRX': 0.7, 'Shimano R2300': 0.3 , 'Shimano R460': 0.3,\n",
    "       }\n",
    "roadies['groupset_num'] = roadies['Groupset'].replace(gropset_dict, regex=True, inplace=False)\n",
    "roadies"
   ]
  },
  {
   "cell_type": "code",
   "execution_count": null,
   "metadata": {},
   "outputs": [],
   "source": [
    "roadies.rename(columns={'Braking Type': 'brake_num'}, inplace=True)\n",
    "roadies['brake_num'].replace({'Disc Brakes': 1, 'Rim Brakes': 0.5}, inplace=True, regex=True)\n",
    "roadies"
   ]
  },
  {
   "cell_type": "code",
   "execution_count": null,
   "metadata": {},
   "outputs": [],
   "source": [
    "import re\n",
    "\n",
    "def find_year(x):\n",
    "    four_num = re.findall(r'[0-9]{4}', x)\n",
    "    four_num = [int(num) for num in four_num]\n",
    "    for num in four_num:\n",
    "        if 1990 <= num <= 2024:\n",
    "            return num\n",
    "    return np.nan\n",
    "\n",
    "roadies['Production_year'] = roadies['Title'].apply(find_year)\n",
    "roadies['Production_year'].fillna(roadies['Production_year'].median(), inplace=True)\n",
    "roadies['Production_year']"
   ]
  },
  {
   "cell_type": "code",
   "execution_count": null,
   "metadata": {},
   "outputs": [],
   "source": [
    "num_cols = ['ID', 'Price','Production_year', 'isNew', 'material_num', 'groupset_num', 'e_shift_num', 'brake_num']"
   ]
  },
  {
   "cell_type": "code",
   "execution_count": null,
   "metadata": {},
   "outputs": [],
   "source": [
    "roadies_num = roadies[num_cols]\n",
    "roadies_num.to_json('data\\exch_road.json', lines=True, orient='records')\n",
    "roadies_num"
   ]
  },
  {
   "cell_type": "code",
   "execution_count": null,
   "metadata": {},
   "outputs": [],
   "source": []
  }
 ],
 "metadata": {
  "kernelspec": {
   "display_name": "Python 3",
   "language": "python",
   "name": "python3"
  },
  "language_info": {
   "codemirror_mode": {
    "name": "ipython",
    "version": 3
   },
   "file_extension": ".py",
   "mimetype": "text/x-python",
   "name": "python",
   "nbconvert_exporter": "python",
   "pygments_lexer": "ipython3",
   "version": "3.11.0"
  }
 },
 "nbformat": 4,
 "nbformat_minor": 2
}
