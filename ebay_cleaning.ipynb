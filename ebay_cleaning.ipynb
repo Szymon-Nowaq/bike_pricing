{
 "cells": [
  {
   "cell_type": "code",
   "execution_count": null,
   "metadata": {},
   "outputs": [],
   "source": [
    "import pandas as pd \n",
    "\n",
    "df = pd.read_json('data\\data_ebay.json', lines=True)"
   ]
  },
  {
   "cell_type": "code",
   "execution_count": null,
   "metadata": {},
   "outputs": [],
   "source": [
    "def print_nans_perc(df, Print = False, perc = 0.95):\n",
    "    n = len(df)\n",
    "    nans_perc = df.isna().sum() / len(df)\n",
    "    cols = nans_perc[nans_perc > 0.95].index\n",
    "    print('len - ', n)\n",
    "    nans_perc.sort_values(ascending=True, inplace=True)\n",
    "    if Print:\n",
    "        for index, val in zip(nans_perc.index, nans_perc):\n",
    "            print(index + ': ', val)\n",
    "    return cols\n",
    "print_nans_perc(df, Print = True)"
   ]
  },
  {
   "cell_type": "code",
   "execution_count": null,
   "metadata": {},
   "outputs": [],
   "source": [
    "def drop_nans_in_cols(df : pd.DataFrame, cols : list):\n",
    "    print(len(df))\n",
    "    df.dropna(subset=cols, inplace=True)\n",
    "    df.dropna(axis = 1, how = 'all', inplace=True)\n",
    "    print(len(df))\n",
    "    print_nans_perc(df)"
   ]
  },
  {
   "cell_type": "code",
   "execution_count": null,
   "metadata": {},
   "outputs": [],
   "source": [
    "df['type'] = df['Bike Type'].combine_first(df['Type'])\n",
    "df.drop(['Bike Type', 'Type'], axis = 1, inplace=True)\n",
    "print('perc of left nans: ', df['type'].isna().sum() / len(df))"
   ]
  },
  {
   "cell_type": "code",
   "execution_count": null,
   "metadata": {},
   "outputs": [],
   "source": [
    "df['Price'].replace('[A-Za-z, \\$, £]','',inplace=True, regex=True)\n",
    "df = df[df['Price'] != '']\n",
    "df['Price'] = df['Price'].astype(float)\n",
    "df[df['Price'] < 2500]['Price'].plot(kind='hist')"
   ]
  },
  {
   "cell_type": "code",
   "execution_count": null,
   "metadata": {},
   "outputs": [],
   "source": [
    "bike_groups = [\n",
    "    \"Dura Ace\", \"Dura-Ace\", \"Ultegra\", \"105\", \"Tiagra\", \"Sora\", \"Claris\", \"GRX\",\n",
    "    \n",
    "    \"XTR\", \"Deore XT\", \"SLX\", \"Deore\", \"Alivio\", \"Acera\", \"Altus\", \"Tourney\", \"Zee\", \"Saint\",\n",
    "    \n",
    "    \"Super Record\", \"Record\", \"Chorus\", \"Potenza\", \"Centaur\", \"Veloce\", \"Athena\",\n",
    "    \n",
    "    \"Sram Red\", \"Force\", \"Rival\", \"Apex\",\n",
    "\n",
    "    \"XX1\", \"X01\",\"GX\", \"NX\", \"SX\", \"XX\", \"X0\", \"X9\", \"X7\", \"X5\", \"Descendant\", \"Code\"\n",
    "]\n",
    "\n",
    "road_groups = [ \"dura ace\", \"dura-ace\", \"ultegra\", \"105\", \"tiagra\", \"sora\", \"claris\", \"grx\",\n",
    "               \"super record\", \"record\", \"chorus\", \"potenza\", \"centaur\", \"veloce\", \"athena\",\n",
    "                \"sram red\", \"Force\", \"arval\", \"apex\"]\n",
    "\n",
    "mtb_groups = [\n",
    "    \"xtr\", \"deore xt\", \"slx\", \"deore\", \"alivio\", \"acera\", \"altus\", \"tourney\", \"zee\", \"saint\",\n",
    "    \"xx1\", \"x01\", \"gx\", \"nx\", \"sx\", \"xx\", \"x0\", \"x9\", \"x7\", \"x5\", \"descendant\", \"code\"\n",
    "]\n",
    "\n",
    "bike_groups_dict_lower = {\n",
    "    \"dura ace\": 1.0, \"dura-ace\": 1.0, \"ultegra\": 0.9, \"105\": 0.8, \"tiagra\": 0.7, \"sora\": 0.6, \"claris\": 0.5, \"grx\": 0.8,\n",
    "    \n",
    "    \"xtr\": 1.0, \"deore xt\": 0.9, \"slx\": 0.8, \"deore\": 0.7, \"alivio\": 0.6, \"acera\": 0.5, \"altus\": 0.4, \"tourney\": 0.3, \"zee\": 0.8, \"saint\": 0.9,\n",
    "    \n",
    "    \"super record\": 1.0, \"record\": 0.9, \"chorus\": 0.8, \"potenza\": 0.7, \"centaur\": 0.6, \"veloce\": 0.5, \"athena\": 0.4,\n",
    "    \n",
    "    \"sram red\": 1.0, \"force\": 0.9, \"rival\": 0.8, \"apex\": 0.7,\n",
    "    \n",
    "    \"xx1\": 1.0, \"x01\": 0.9, \"gx\": 0.8, \"nx\": 0.7, \"sx\": 0.6, \"xx\": 0.9, \"x0\": 0.8, \"x9\": 0.7, \"x7\": 0.6, \"x5\": 0.5, \"descendant\": 0.7, \"code\": 0.7\n",
    "}\n",
    "\n",
    "\n",
    "df.drop(['Color', 'Colour', 'Product URL', 'Photo URL'], axis=1, inplace=True)"
   ]
  },
  {
   "cell_type": "code",
   "execution_count": null,
   "metadata": {},
   "outputs": [],
   "source": [
    "import re\n",
    "import numpy as np\n",
    "\n",
    "def find_from_list(row, columns, list):\n",
    "    for col in columns:\n",
    "        value = row[col]\n",
    "        found = ''\n",
    "        if pd.notna(value) and isinstance(value, str): \n",
    "            found = re.findall(r'(' + '|'.join(list) + ')', value, re.IGNORECASE)\n",
    "        if found:\n",
    "            return str(found[0]).lower()\n",
    "    return np.nan\n",
    "\n",
    "cols = ['Title', 'Seller notes', 'Model', 'Brake Type']\n",
    "#cols = df.columns\n",
    "df['groupset'] = np.nan\n",
    "df['groupset'] = df.apply(find_from_list, axis=1, args = (cols, bike_groups))\n",
    "print('perc of left nans: ', df['groupset'].isna().sum() / len(df))\n",
    "df['groupset_num'] = df['groupset'].replace(bike_groups_dict_lower, regex=True)\n",
    "df['groupset_num'] = df['groupset_num'].astype(float)"
   ]
  },
  {
   "cell_type": "code",
   "execution_count": null,
   "metadata": {},
   "outputs": [],
   "source": [
    "df['speeds'] = df['Number of Speeds'].combine_first(df['Number of Gears'])\n",
    "df['speeds_num'] = df['speeds'].str.extract(r'\\b(\\d{1,2})\\b').astype(float)\n",
    "\n",
    "def re_count_gears(x):\n",
    "    if x < 5 or x > 33:\n",
    "        return np.nan\n",
    "    elif x <= 12:\n",
    "        return x\n",
    "    else:\n",
    "        if x % 2 == 0:\n",
    "            if x/2 > 12:\n",
    "                return np.nan\n",
    "            else:\n",
    "                return x/2\n",
    "        elif x % 3 == 0:\n",
    "            return x/3\n",
    "\n",
    "speeds_dict = {5: 0.2, 6: 0.3, 7: 0.4, 8: 0.5, 9: 0.6, 10: 0.7, 11: 0.8, 12: 0.9}\n",
    "\n",
    "df['speeds_num'] = df['speeds_num'].apply(re_count_gears)\n",
    "df['speeds_num'].replace(speeds_dict, regex=True, inplace=True)\n",
    "print('perc of left nans: ', df['groupset_num'].isna().sum() / len(df))\n",
    "df['groupset_num'] = df['groupset_num'].combine_first(df['speeds_num']) \n",
    "print('perc of left nans: ', df['groupset_num'].isna().sum() / len(df))"
   ]
  },
  {
   "cell_type": "code",
   "execution_count": null,
   "metadata": {},
   "outputs": [],
   "source": [
    "materials = ['carbon', 'alu', 'aluminium', 'steel', 'alloy', 'titanium', 'chromoly']\n",
    "materials_dict = {'carbon': 0.9, 'alu': 0.5, 'aluminium': 0.5, 'steel': 0.3, 'alloy': 0.5, 'titanium': 0.6, 'chromoly': 0.15}\n",
    "\n",
    "cols = df.columns\n",
    "df['material'] = np.nan\n",
    "df['material'] = df.apply(find_from_list, axis=1, args = (cols, materials,))\n",
    "print('perc of left nans: ', df['material'].isna().sum() / len(df))\n",
    "df['material_num'] = df['material'].replace(materials_dict, regex=True)\n",
    "df['material_num'] = df['material_num'].astype(float)\n",
    "df.groupby('material').size().sort_values()"
   ]
  },
  {
   "cell_type": "code",
   "execution_count": null,
   "metadata": {},
   "outputs": [],
   "source": [
    "e_shift = ['di2', 'axs', 'etap']\n",
    "e_shift_dict = {'di2': 1, 'axs': 1, 'etap': 1, np.nan: 0}\n",
    "\n",
    "df['e_shift_type'] = np.nan \n",
    "cols = df.columns\n",
    "df['e_shift_type'] = df.apply(find_from_list, axis=1, args=(cols, e_shift,))\n",
    "print('perc of left nans: ', df['e_shift_type'].isna().sum() / len(df))\n",
    "df['e_shift_num'] = df['e_shift_type'].replace(e_shift_dict, regex=True)\n",
    "df['e_shift_num'] = df['e_shift_num'].astype(float)\n",
    "df.groupby('e_shift_num').size().sort_values()"
   ]
  },
  {
   "cell_type": "code",
   "execution_count": null,
   "metadata": {},
   "outputs": [],
   "source": [
    "df = df[df['Condition'] != 'For parts or not working']\n",
    "condition_dict = {'Used': 0, 'New': 1, 'New other (see details)': 1, 'Seller refurbished': 0, 'Manufacturer refurbished': 0, '--': 0}\n",
    "\n",
    "df['isNew'] = df['Condition'].replace(condition_dict, regex=True)\n",
    "df['isNew'] = df['isNew'].astype(float)\n",
    "print('perc of left nans: ', df['isNew'].isna().sum() / len(df))\n",
    "df.groupby('isNew').size().sort_values()"
   ]
  },
  {
   "cell_type": "code",
   "execution_count": null,
   "metadata": {},
   "outputs": [],
   "source": [
    "df.drop(['MPN'], axis=1, inplace=True)"
   ]
  },
  {
   "cell_type": "code",
   "execution_count": null,
   "metadata": {},
   "outputs": [],
   "source": [
    "def find_year(row, cols):\n",
    "    for col in cols:\n",
    "        value = row[col]\n",
    "        if pd.notna(value) and isinstance(value, str):\n",
    "            four_num = re.findall(r'\\b[0-9]{4}\\b', value)\n",
    "            four_num = [float(num) for num in four_num]\n",
    "            for num in four_num:\n",
    "                if 1950 <= num <= 2024:\n",
    "                    return num\n",
    "    return np.nan\n",
    "\n",
    "df['Production_year'] = np.nan\n",
    "cols = ['Model Year','Title'] \n",
    "#cols = df.columns\n",
    "df['Production_year'] = df.apply(find_year, axis=1, args=(cols,))\n",
    "print('perc of left nans: ', df['Production_year'].isna().sum() / len(df))\n",
    "'''#print(df[df['groupset'] == 'deore xt'][['Title', 'Production_year']])\n",
    "df[df['Production_year'] < 2000].groupby('groupset').size()\n",
    "df.groupby('groupset').size().sort_values()\n",
    "df.groupby('groupset')['Production_year'].median()[df.groupby('groupset')['Production_year'].median() < 2010]\n",
    "'''"
   ]
  },
  {
   "cell_type": "code",
   "execution_count": null,
   "metadata": {},
   "outputs": [],
   "source": [
    "brakes = ['rim', 'disc', 'v-brake', 'hydraulic', 'caliper', 'cantilever', 'v-brakes']\n",
    "brakes_dict = {'rim': 0.5, 'disc': 1, 'v-brake': 0.5, 'hydraulic': 1, 'caliper': 0.5, 'cantilever': 0.5, 'v-brakes': 0.5}\n",
    "\n",
    "df['brake_type'] = np.nan \n",
    "cols = df.columns\n",
    "df['brake_type'] = df.apply(find_from_list, axis=1, args=(cols, brakes,))\n",
    "print('perc of left nans: ', df['brake_type'].isna().sum() / len(df))\n",
    "df['brake_num'] = df['brake_type'].replace(brakes_dict, regex=True)\n",
    "df['brake_num'] = df['brake_num'].astype(float)\n",
    "df.groupby('brake_num').size().sort_values()"
   ]
  },
  {
   "cell_type": "code",
   "execution_count": null,
   "metadata": {},
   "outputs": [],
   "source": [
    "df[df['groupset'] == 'ultegra']['Production_year'].plot(kind='hist')\n",
    "df[df['groupset'] == '105']['Production_year'].plot(kind='hist')\n",
    "df[df['groupset'] == 'dura ace']['Production_year'].plot(kind='hist')\n",
    "df[df['groupset'] == 'sram red']['Production_year'].plot(kind='hist')\n",
    "df.groupby('groupset')['Production_year'].median()[df.groupby('groupset').size() > 100]"
   ]
  },
  {
   "cell_type": "code",
   "execution_count": null,
   "metadata": {},
   "outputs": [],
   "source": [
    "print('perc od left nans: ', df['Production_year'].isna().sum() / len(df))\n",
    "df.loc[df['groupset'] == '105', 'Production_year'] = df[df['groupset'] == '105']['Production_year'].fillna(2017)\n",
    "df.loc[df['groupset'] == 'ultegra', 'Production_year'] = df[df['groupset'] == 'ultegra']['Production_year'].fillna(2018)\n",
    "df.loc[df['groupset'] == 'dura ace', 'Production_year'] = df[df['groupset'] == 'dura ace']['Production_year'].fillna(2017)\n",
    "df.loc[df['groupset'] == 'sram red', 'Production_year'] = df[df['groupset'] == 'sram red']['Production_year'].fillna(2018)\n",
    "print('perc od left nans: ', df['Production_year'].isna().sum() / len(df))"
   ]
  },
  {
   "cell_type": "code",
   "execution_count": null,
   "metadata": {},
   "outputs": [],
   "source": [
    "print('perc od left nans: ', df['type'].isna().sum() / len(df))\n",
    "df.loc[df['groupset'].isin(road_groups) & df['type'].isna(), 'type'] = 'Road Bike'\n",
    "df.loc[df['groupset'].isin(mtb_groups) & df['type'].isna(), 'type'] = 'mtb'\n",
    "print('perc od left nans: ', df['type'].isna().sum() / len(df))\n"
   ]
  },
  {
   "cell_type": "code",
   "execution_count": null,
   "metadata": {},
   "outputs": [],
   "source": [
    "print('perc od left nans: ', df['Production_year'].isna().sum() / len(df))\n",
    "indexes = df['Condition'].isin(['New', 'New other (see details)'])\n",
    "df.loc[indexes, 'Production_year'] = df.loc[indexes, 'Production_year'].fillna(2019) # 2019 - median of new bikes\n",
    "print('perc od left nans: ', df['Production_year'].isna().sum() / len(df))"
   ]
  },
  {
   "cell_type": "code",
   "execution_count": null,
   "metadata": {},
   "outputs": [],
   "source": [
    "cols = print_nans_perc(df)\n",
    "to_drop = ['Frame Size', 'Department', 'UPC', 'Gender', 'Shifter Style', \n",
    "              'Features', 'Country/Region of Manufacture', 'Tyre Type', 'Style', 'Manufacturer Color', 'Tire Type',\n",
    "              'Modified Item', 'Tires', 'Custom-Built', 'Custom Bundle', 'Handlebar Type', 'Shifter', 'Gear Change Mechanism', 'e_shift_type', \n",
    "              'Model Year', 'Configuration', 'Frame Material', 'Brake Type', 'Condition', 'Number of Gears', 'speeds', 'Number of Speeds', \n",
    "              'Material', 'speeds_num', 'Vintage', 'Model', 'Brand']\n",
    "to_drop += list(cols)\n",
    "\n",
    "df_drp = df.drop(to_drop, axis = 1, inplace=False)\n",
    "print_nans_perc(df_drp, Print=True)"
   ]
  },
  {
   "cell_type": "code",
   "execution_count": null,
   "metadata": {},
   "outputs": [],
   "source": [
    "roadies = df_drp[df_drp['type'].isin(['Road Bike', 'Road Bike - Racing', 'Road bike', 'Road Bike - Touring', \n",
    "                              'Road', 'Cyclocross Bike', 'cyclocross/gravel', 'ROAD DISC BIKE', 'Road Bike - Racing or Touring', \n",
    "                              'Aero Road Bike', 'Racing/Touring Roadbike', 'Road/Touring', 'Time Trial/Triathlon Bike', \n",
    "                              'Road Bike Racing', 'Time Trial/Triathlon', 'Road/Racing', 'Racing/road bike', \n",
    "                              'Raod Bike', 'Road Racing Bike', 'road bike', 'Road Bike - Touring ??', \n",
    "                              'Road Bike / triathlon', 'Racing/Road Bike', 'Comfort Road Bike',  \n",
    "                              'road Bike', 'Road Bike / Racing Bike', 'Hybrid', \n",
    "                              'Gravel, CX, Road, Commuter', 'Road Bike / Cyclocross Bike / Triathlon', 'Race Road Bike',\n",
    "])]\n",
    "\n",
    "cols_to_drop_road = ['Wheel Size', 'Suspension', 'Suspension Type', 'Seller notes']\n",
    "roadies.drop(columns=cols_to_drop_road, inplace=True)\n",
    "\n",
    "roadies['type'] = 'Road Bike'"
   ]
  },
  {
   "cell_type": "code",
   "execution_count": null,
   "metadata": {},
   "outputs": [],
   "source": [
    "old_idx = roadies.loc[roadies['Production_year'] < 2015].index\n",
    "roadies.loc[old_idx, 'brake_num'] = 0.5"
   ]
  },
  {
   "cell_type": "code",
   "execution_count": null,
   "metadata": {},
   "outputs": [],
   "source": [
    "roadies_num = roadies.drop(columns=['groupset', 'brake_type', 'material', 'type', 'Title'])\n",
    "print_nans_perc(roadies_num, Print=True)\n",
    "print_nans_perc(roadies_num.dropna(axis=0, how='any'), Print=True)"
   ]
  },
  {
   "cell_type": "code",
   "execution_count": null,
   "metadata": {},
   "outputs": [],
   "source": [
    "roadies_num"
   ]
  },
  {
   "cell_type": "code",
   "execution_count": null,
   "metadata": {},
   "outputs": [],
   "source": [
    "mtb = df_drp[df_drp['type'].isin(['Mountain Bike', 'Full Suspension', 'Downhill Bike', 'MOUNTAIN BIKE', 'Mountain Bike/ Gravel', \n",
    "                          'Mountain Bike MTB 29ER', 'Mountain Suspension Bike', 'Hardtail Bike','Mountain bike', 'mountain  bike style', \n",
    "                          'Hardtail Mountain Bike', 'MOUNTAIN', 'mountain bike', 'Mountain Bike19\"', 'Enduro', '29er Mountain Bike', 'Mountain / JUMP Bike',  \n",
    "])]\n",
    "\n",
    "mtb['type'] = 'MTB'\n",
    "\n",
    "print_nans_perc(mtb, Print=True)"
   ]
  },
  {
   "cell_type": "code",
   "execution_count": null,
   "metadata": {},
   "outputs": [],
   "source": [
    "wheel_size = ['26', '27.5', '27', '27.5', '29']\n",
    "wheel_size_dict = {'27.5': 0.66, '29': 1, '27': 0.66, '27,5': 0.66, '26': 0.33}\n",
    "\n",
    "cols = ['Wheel Size']\n",
    "mtb['Wheel Size'] = mtb.apply(find_from_list, axis=1 ,args=(cols, wheel_size, ))\n",
    "mtb['wheel_num'] = mtb['Wheel Size'].replace(wheel_size_dict, regex=True)\n",
    "print_nans_perc(mtb, Print=True)"
   ]
  },
  {
   "cell_type": "code",
   "execution_count": null,
   "metadata": {},
   "outputs": [],
   "source": [
    "mtb['suspension'] = mtb['Suspension'].combine_first(mtb['Suspension Type'])\n",
    "mtb.drop(columns=['Suspension', 'Suspension Type'], inplace=True)"
   ]
  },
  {
   "cell_type": "code",
   "execution_count": null,
   "metadata": {},
   "outputs": [],
   "source": [
    "susps = ['front', 'full', 'no suspension', 'rear']\n",
    "susps_dict = {'front': 0.5, 'full': 1, 'no': 0, 'rear': 1}\n",
    "\n",
    "cols = mtb.columns\n",
    "mtb['suspension'] = mtb.apply(find_from_list, axis=1 ,args=(cols, susps, ))\n",
    "mtb['suspension_num'] = mtb['suspension'].replace(susps_dict, regex=True)\n",
    "print_nans_perc(mtb, Print=True)"
   ]
  },
  {
   "cell_type": "code",
   "execution_count": null,
   "metadata": {},
   "outputs": [],
   "source": [
    "old_idx = mtb.loc[mtb['Production_year'] > 2010].index\n",
    "mtb.loc[old_idx, 'brake_num'] = 1"
   ]
  },
  {
   "cell_type": "code",
   "execution_count": null,
   "metadata": {},
   "outputs": [],
   "source": [
    "mtb_num = mtb.drop(columns=['groupset', 'brake_type', 'material', 'type', 'Wheel Size', 'Seller notes', 'Title', 'suspension'])\n",
    "print_nans_perc(mtb_num, Print=True)\n",
    "print_nans_perc(mtb_num.dropna(axis=0, how='any'))\n"
   ]
  },
  {
   "cell_type": "code",
   "execution_count": null,
   "metadata": {},
   "outputs": [],
   "source": [
    "roadies_num.dropna(axis=0, how='any', inplace=True)\n",
    "num_cols = ['ID', 'Price','Production_year', 'isNew', 'material_num', 'groupset_num', 'e_shift_num', 'brake_num']\n",
    "roadies_num = roadies_num[num_cols]\n",
    "roadies_num.to_json('data\\ebay_road.json', lines=True, orient='records')\n",
    "roadies_num"
   ]
  },
  {
   "cell_type": "code",
   "execution_count": null,
   "metadata": {},
   "outputs": [],
   "source": [
    "mtb_num.dropna(axis=0, how='any', inplace=True)\n",
    "num_cols = ['ID', 'Price','Production_year', 'isNew', 'suspension_num','material_num', 'groupset_num', 'e_shift_num', 'wheel_num', 'brake_num']\n",
    "mtb_num = mtb_num[num_cols]\n",
    "mtb_num.to_json('data\\ebay_mtb.json', lines=True, orient='records')\n",
    "mtb_num"
   ]
  }
 ],
 "metadata": {
  "kernelspec": {
   "display_name": "Python 3",
   "language": "python",
   "name": "python3"
  },
  "language_info": {
   "codemirror_mode": {
    "name": "ipython",
    "version": 3
   },
   "file_extension": ".py",
   "mimetype": "text/x-python",
   "name": "python",
   "nbconvert_exporter": "python",
   "pygments_lexer": "ipython3",
   "version": "3.11.0"
  }
 },
 "nbformat": 4,
 "nbformat_minor": 2
}
