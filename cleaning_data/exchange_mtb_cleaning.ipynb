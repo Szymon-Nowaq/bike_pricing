{
 "cells": [
  {
   "cell_type": "code",
   "execution_count": null,
   "metadata": {},
   "outputs": [],
   "source": [
    "import pandas as pd\n",
    "import numpy as np\n",
    "df = pd.read_json('..\\data\\\\raw_sources\\data_bike_exchange.json', lines=True)\n",
    "df.head(10)"
   ]
  },
  {
   "cell_type": "code",
   "execution_count": null,
   "metadata": {},
   "outputs": [],
   "source": [
    "#pd.set_option('display.max_rows', None)\n",
    "pd.set_option('display.max_columns', None)\n",
    "#pd.reset_option('all')"
   ]
  },
  {
   "cell_type": "code",
   "execution_count": null,
   "metadata": {},
   "outputs": [],
   "source": [
    "def print_nans_perc(df):\n",
    "    n = len(df)\n",
    "    nans_perc = ((df.isna().sum() / n) * 100).sort_values(ascending=True)\n",
    "    print('len - ', n)\n",
    "    for index, val in zip(nans_perc.index, nans_perc):\n",
    "        print(index + ': ', val)\n",
    "print_nans_perc(df)\n",
    "df['Type'].unique()"
   ]
  },
  {
   "cell_type": "code",
   "execution_count": null,
   "metadata": {},
   "outputs": [],
   "source": [
    "bike_types = df['Type'].unique()\n",
    "for Btype in bike_types:\n",
    "    print('\\n\\n'+ Btype + ':\\n')\n",
    "    print_nans_perc(df[df['Type'] == Btype])"
   ]
  },
  {
   "cell_type": "code",
   "execution_count": null,
   "metadata": {},
   "outputs": [],
   "source": [
    "usefull_cols = ['ID','Title','Type','Price now','Brand','Item condition', 'Material', 'Rear Derailleur', 'Groupset', 'Braking Type', 'Wheel Size']\n",
    "usefull_cols_mtb = ['ID','Title','Price now','Brand','Item condition', 'Material', 'Wheel Size', 'Rear Derailleur', 'Riding Style']"
   ]
  },
  {
   "cell_type": "code",
   "execution_count": null,
   "metadata": {},
   "outputs": [],
   "source": [
    "full_orig = df[df['Type'] == 'Full suspension_num Mountain Bikes'][usefull_cols_mtb]\n",
    "hardtrail_orig = df[df['Type'] == 'Hardtail Mountain Bikes'][usefull_cols_mtb]\n",
    "full_orig['suspension_num'] = 1\n",
    "hardtrail_orig['suspension_num'] = 0.5\n",
    "mtb_orig = pd.concat([full_orig, hardtrail_orig], axis = 0)\n",
    "print_nans_perc(mtb_orig)"
   ]
  },
  {
   "cell_type": "code",
   "execution_count": null,
   "metadata": {},
   "outputs": [],
   "source": [
    "mtb = mtb_orig.copy()\n",
    "mtb.rename(columns={'Price now': 'Price'}, inplace=True)\n",
    "mtb['Price'].replace('[A-Za-z, \\$]','',inplace=True, regex=True)\n",
    "mtb = mtb[mtb['Price'] != '']\n",
    "mtb['Price'] = mtb['Price'].astype(float)\n",
    "mtb"
   ]
  },
  {
   "cell_type": "code",
   "execution_count": null,
   "metadata": {},
   "outputs": [],
   "source": [
    "mtb.rename(columns={'Item condition': 'isNew', 'Rear Derailleur': 'Groupset'}, inplace=True)\n",
    "mtb['isNew'].replace({'Used': 0, 'New': 1},inplace=True, regex=True)\n",
    "mtb['isNew'] = mtb['isNew'].astype(int)\n",
    "mtb"
   ]
  },
  {
   "cell_type": "code",
   "execution_count": null,
   "metadata": {},
   "outputs": [],
   "source": [
    "material_dict = {'Chromoly': 0.15, 'Steel': 0.3, 'Aluminum': 0.45, 'Titanium': 0.6, 'Carbon Alloy Composite': 0.75, 'Carbon': 0.9}\n",
    "mtb['material_num'] = mtb['Material'].replace(material_dict, regex=True)\n",
    "mtb['material_num'] = mtb['material_num'].astype(float)\n",
    "mtb"
   ]
  },
  {
   "cell_type": "code",
   "execution_count": null,
   "metadata": {},
   "outputs": [],
   "source": [
    "print(mtb.groupby('Groupset').size())\n",
    "#mtb['Rear Derailleur'].unique()"
   ]
  },
  {
   "cell_type": "code",
   "execution_count": null,
   "metadata": {},
   "outputs": [],
   "source": [
    "mtb = mtb[mtb['Groupset'] != 'N/A']\n",
    "mtb = mtb[mtb['Groupset'] != 'Singlespeed']\n",
    "mtb['e_shift_num'] = mtb['Groupset'].apply(lambda x: 1 if any(ele in x for ele in ['Di2', 'AXS', 'eTap']) else 0)\n",
    "\n",
    "RD_dict = {    \n",
    "        'SRAM XX1 Eagle': 0.9, 'SRAM XX1': 0.9, 'SRAM X01 Eagle': 0.8, 'SRAM X01': 0.8, 'SRAM GX Eagle': 0.7, 'SRAM GX': 0.7, 'SRAM NX Eagle': 0.6, \n",
    "        'SRAM NX': 0.6, 'SRAM X9': 0.6, 'SRAM X7': 0.5, 'SRAM X5': 0.4,'SRAM X1': 0.8,'SRAM SX Eagle': 0.5, 'SRAM SX': 0.5,\n",
    "        'SRAM XX': 1, 'SRAM X0': 0.95,\n",
    "\n",
    "        'Shimano XTR': 0.9, 'Shimano Deore XT': 0.8, 'Shimano XT': 0.7, 'Shimano Saint': 0.7, 'Shimano Zee': 0.6, 'Shimano SLX': 0.6, 'Shimano Deore': 0.5, \n",
    "        'Shimano Alivio': 0.4, 'Shimano Acera': 0.3, 'Shimano Altus': 0.2, 'Shimano Tourney': 0.1, 'Shimano TX800': 0.1, 'Shimano TX35': 0.1, 'Shimano TY500': 0.1, 'Shimano M310': 0.1,\n",
    "        'Shimano XTR Di2': 1,\n",
    "        }\n",
    "\n",
    "mtb['groupset_num'] = mtb['Groupset'].replace(RD_dict, regex=True, inplace=False)\n",
    "mtb"
   ]
  },
  {
   "cell_type": "code",
   "execution_count": null,
   "metadata": {},
   "outputs": [],
   "source": [
    "mtb['Wheel Size'].unique()\n",
    "#mtb.groupby('Wheel Size').size()"
   ]
  },
  {
   "cell_type": "code",
   "execution_count": null,
   "metadata": {},
   "outputs": [],
   "source": [
    "mtb = mtb[mtb['Wheel Size'] != '24\"']"
   ]
  },
  {
   "cell_type": "code",
   "execution_count": null,
   "metadata": {},
   "outputs": [],
   "source": [
    "wheel_size_dict = {'27.5\"': 0.66, '29\"': 1, '650b': 0.66, '26\"': 0.33}\n",
    "mtb['wheel_num'] = mtb['Wheel Size'].replace(wheel_size_dict, regex=True)\n",
    "mtb"
   ]
  },
  {
   "cell_type": "code",
   "execution_count": null,
   "metadata": {},
   "outputs": [],
   "source": [
    "import re\n",
    "\n",
    "def find_year(x):\n",
    "    four_num = re.findall(r'[0-9]{4}', x)\n",
    "    four_num = [int(num) for num in four_num]\n",
    "    for num in four_num:\n",
    "        if 1990 <= num <= 2024:\n",
    "            return num\n",
    "    return np.nan\n",
    "\n",
    "mtb['Production_year'] = mtb['Title'].apply(find_year)\n",
    "mtb['Production_year'].fillna(mtb['Production_year'].median(), inplace=True)"
   ]
  },
  {
   "cell_type": "code",
   "execution_count": null,
   "metadata": {},
   "outputs": [],
   "source": [
    "mtb['brake_num'] = 1"
   ]
  },
  {
   "cell_type": "code",
   "execution_count": null,
   "metadata": {},
   "outputs": [],
   "source": [
    "num_cols = ['ID', 'Price','Production_year', 'isNew', 'suspension_num','material_num', 'groupset_num', 'e_shift_num', 'wheel_num', 'brake_num']"
   ]
  },
  {
   "cell_type": "code",
   "execution_count": null,
   "metadata": {},
   "outputs": [],
   "source": [
    "mtb_num = mtb[num_cols]\n",
    "mtb_num.to_json('..\\data\\exch_mtb.json', lines=True, orient='records')\n",
    "mtb_num\n"
   ]
  }
 ],
 "metadata": {
  "kernelspec": {
   "display_name": "Python 3",
   "language": "python",
   "name": "python3"
  },
  "language_info": {
   "codemirror_mode": {
    "name": "ipython",
    "version": 3
   },
   "file_extension": ".py",
   "mimetype": "text/x-python",
   "name": "python",
   "nbconvert_exporter": "python",
   "pygments_lexer": "ipython3",
   "version": "3.11.0"
  }
 },
 "nbformat": 4,
 "nbformat_minor": 2
}
